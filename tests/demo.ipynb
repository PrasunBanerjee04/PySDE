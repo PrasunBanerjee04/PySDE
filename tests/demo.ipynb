{
 "cells": [
  {
   "cell_type": "code",
   "execution_count": 27,
   "id": "d2829ad6",
   "metadata": {},
   "outputs": [],
   "source": [
    "import os\n",
    "import numpy as np\n",
    "import pandas as pd\n",
    "import matplotlib.pyplot as plt\n",
    "#matplotlib.use('Agg')\n",
    "import pytest\n",
    "\n",
    "from PySDE.simulate import (\n",
    "    generate_time_grid,\n",
    "    simulate_gbm,\n",
    "    simulate_ou,\n",
    "    simulate_cir,\n",
    "    simulate_heston\n",
    ")\n",
    "from PySDE.custom import simulate_custom\n",
    "\n",
    "from PySDE.estimate import (\n",
    "    estimate_gbm_mle,\n",
    "    estimate_ou_mle,\n",
    "    estimate_gbm_map,\n",
    "    fit_sde,\n",
    "    EstimationError\n",
    ")\n",
    "\n",
    "from PySDE import fit as fit_module\n",
    "\n",
    "# plotting\n",
    "from PySDE import plot\n",
    "from PySDE import dataset\n",
    "from PySDE.dataset import SDEDataset\n"
   ]
  },
  {
   "cell_type": "code",
   "execution_count": 28,
   "id": "decd64bf",
   "metadata": {},
   "outputs": [
    {
     "data": {
      "text/html": [
       "<div>\n",
       "<style scoped>\n",
       "    .dataframe tbody tr th:only-of-type {\n",
       "        vertical-align: middle;\n",
       "    }\n",
       "\n",
       "    .dataframe tbody tr th {\n",
       "        vertical-align: top;\n",
       "    }\n",
       "\n",
       "    .dataframe thead th {\n",
       "        text-align: right;\n",
       "    }\n",
       "</style>\n",
       "<table border=\"1\" class=\"dataframe\">\n",
       "  <thead>\n",
       "    <tr style=\"text-align: right;\">\n",
       "      <th></th>\n",
       "      <th>volume</th>\n",
       "      <th>open</th>\n",
       "      <th>high</th>\n",
       "      <th>low</th>\n",
       "      <th>close</th>\n",
       "      <th>adj close</th>\n",
       "    </tr>\n",
       "    <tr>\n",
       "      <th>date</th>\n",
       "      <th></th>\n",
       "      <th></th>\n",
       "      <th></th>\n",
       "      <th></th>\n",
       "      <th></th>\n",
       "      <th></th>\n",
       "    </tr>\n",
       "  </thead>\n",
       "  <tbody>\n",
       "    <tr>\n",
       "      <th>1999-11-18</th>\n",
       "      <td>62546300</td>\n",
       "      <td>32.546494</td>\n",
       "      <td>35.765381</td>\n",
       "      <td>28.612303</td>\n",
       "      <td>31.473534</td>\n",
       "      <td>27.068665</td>\n",
       "    </tr>\n",
       "    <tr>\n",
       "      <th>1999-11-19</th>\n",
       "      <td>15234100</td>\n",
       "      <td>30.713520</td>\n",
       "      <td>30.758226</td>\n",
       "      <td>28.478184</td>\n",
       "      <td>28.880543</td>\n",
       "      <td>24.838577</td>\n",
       "    </tr>\n",
       "    <tr>\n",
       "      <th>1999-11-22</th>\n",
       "      <td>6577800</td>\n",
       "      <td>29.551144</td>\n",
       "      <td>31.473534</td>\n",
       "      <td>28.657009</td>\n",
       "      <td>31.473534</td>\n",
       "      <td>27.068665</td>\n",
       "    </tr>\n",
       "    <tr>\n",
       "      <th>1999-11-23</th>\n",
       "      <td>5975600</td>\n",
       "      <td>30.400572</td>\n",
       "      <td>31.205294</td>\n",
       "      <td>28.612303</td>\n",
       "      <td>28.612303</td>\n",
       "      <td>24.607880</td>\n",
       "    </tr>\n",
       "    <tr>\n",
       "      <th>1999-11-24</th>\n",
       "      <td>4843200</td>\n",
       "      <td>28.701717</td>\n",
       "      <td>29.998211</td>\n",
       "      <td>28.612303</td>\n",
       "      <td>29.372318</td>\n",
       "      <td>25.261524</td>\n",
       "    </tr>\n",
       "  </tbody>\n",
       "</table>\n",
       "</div>"
      ],
      "text/plain": [
       "              volume       open       high        low      close  adj close\n",
       "date                                                                       \n",
       "1999-11-18  62546300  32.546494  35.765381  28.612303  31.473534  27.068665\n",
       "1999-11-19  15234100  30.713520  30.758226  28.478184  28.880543  24.838577\n",
       "1999-11-22   6577800  29.551144  31.473534  28.657009  31.473534  27.068665\n",
       "1999-11-23   5975600  30.400572  31.205294  28.612303  28.612303  24.607880\n",
       "1999-11-24   4843200  28.701717  29.998211  28.612303  29.372318  25.261524"
      ]
     },
     "execution_count": 28,
     "metadata": {},
     "output_type": "execute_result"
    }
   ],
   "source": [
    "df = pd.read_csv('test_data/A.csv', index_col=0, parse_dates=True)\n",
    "df = df[::-1]  # reverse the order to have chronological order\n",
    "df.head()"
   ]
  },
  {
   "cell_type": "code",
   "execution_count": 29,
   "id": "48e948aa",
   "metadata": {},
   "outputs": [],
   "source": [
    "prices = df['close'].values"
   ]
  },
  {
   "cell_type": "code",
   "execution_count": 30,
   "id": "86dd2dd3",
   "metadata": {},
   "outputs": [
    {
     "name": "stdout",
     "output_type": "stream",
     "text": [
      "Estimated parameters for GBM (MLE): {'mu': np.float64(0.0005866533041997374), 'sigma': np.float64(0.02610904291869641)}\n"
     ]
    }
   ],
   "source": [
    "dt = 1.0\n",
    "params = estimate_gbm_mle(prices, dt)\n",
    "print(\"Estimated parameters for GBM (MLE):\", params)"
   ]
  },
  {
   "cell_type": "code",
   "execution_count": 31,
   "id": "3f3c8f3e",
   "metadata": {},
   "outputs": [
    {
     "name": "stdout",
     "output_type": "stream",
     "text": [
      "Model fit results: {'gbm': {'params': {'mu': np.float64(0.0005866533041997374), 'sigma': np.float64(0.02610904291869641)}, 'nll': np.float64(-13504.434893119927), 'aic': np.float64(-27004.869786239855), 'bic': np.float64(-26991.448876863356)}, 'ou': {'params': {'theta': np.float64(1.000000500029089e-06), 'mu': np.float64(17904.55736463443), 'sigma': np.float64(1.3685525915167145)}, 'nll': np.float64(10508.775233372882), 'aic': np.float64(21023.550466745764), 'bic': np.float64(21043.68183081051)}, 'vasicek': {'params': {'theta': np.float64(1.000000500029089e-06), 'mu': np.float64(17904.55736463443), 'sigma': np.float64(1.3685525915167145)}, 'nll': np.float64(10508.775233372882), 'aic': np.float64(21023.550466745764), 'bic': np.float64(21043.68183081051)}}\n",
      "Best model: gbm\n",
      "Metrics: {'params': {'mu': np.float64(0.0005866533041997374), 'sigma': np.float64(0.02610904291869641)}, 'nll': np.float64(-13504.434893119927), 'aic': np.float64(-27004.869786239855), 'bic': np.float64(-26991.448876863356)}\n"
     ]
    }
   ],
   "source": [
    "from PySDE.fit import fit_models, select_model\n",
    "\n",
    "results = fit_models(prices, dt)\n",
    "print(\"Model fit results:\", results)\n",
    "\n",
    "best_model, metrics = select_model(prices, dt)\n",
    "print(f\"Best model: {best_model}\")\n",
    "print(\"Metrics:\", metrics)"
   ]
  },
  {
   "cell_type": "code",
   "execution_count": 34,
   "id": "6f0057ad",
   "metadata": {},
   "outputs": [
    {
     "name": "stderr",
     "output_type": "stream",
     "text": [
      "/var/folders/4v/q1spznf91t36ybznjd9h0g480000gn/T/ipykernel_5158/2779933394.py:15: UserWarning: FigureCanvasAgg is non-interactive, and thus cannot be shown\n",
      "  plt.show()\n"
     ]
    }
   ],
   "source": [
    "from PySDE.simulate import simulate_gbm, generate_time_grid\n",
    "\n",
    "sim_paths = simulate_gbm(\n",
    "    S0=prices[0],\n",
    "    mu=params['mu'],\n",
    "    sigma=params['sigma'],\n",
    "    t0=0,\n",
    "    T=dt * (len(prices) - 1),\n",
    "    n_steps=len(prices) - 1,\n",
    "    n_paths=10,\n",
    "    random_state=42\n",
    ")\n",
    "times = generate_time_grid(0, dt * (len(prices) - 1), len(prices) - 1)\n",
    "ax = plot.plot_simulation(times, sim_paths)\n",
    "plt.show()"
   ]
  }
 ],
 "metadata": {
  "kernelspec": {
   "display_name": "base",
   "language": "python",
   "name": "python3"
  },
  "language_info": {
   "codemirror_mode": {
    "name": "ipython",
    "version": 3
   },
   "file_extension": ".py",
   "mimetype": "text/x-python",
   "name": "python",
   "nbconvert_exporter": "python",
   "pygments_lexer": "ipython3",
   "version": "3.12.7"
  }
 },
 "nbformat": 4,
 "nbformat_minor": 5
}
